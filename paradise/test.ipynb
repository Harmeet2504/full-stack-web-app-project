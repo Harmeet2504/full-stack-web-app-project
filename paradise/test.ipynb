{
 "cells": [
  {
   "cell_type": "code",
   "execution_count": null,
   "metadata": {},
   "outputs": [],
   "source": [
    "file_line = 'file.json'\n",
    "file_poly = 'file_poly.json'\n",
    "\n",
    "import json\n",
    "with open(file_line, 'r') as f:\n",
    "    data = json.load(f)\n",
    "\n",
    "for feature in data['features']:\n",
    "    if (feature['geometry']['type'] == 'LineString') & (len(feature['geometry']['coordinates']) >= 3):\n",
    "        feature['geometry']['type'] = 'Polygon'\n",
    "        feature['geometry']['coordinates'].append(feature['geometry']['coordinates'][0])\n",
    "\n",
    "with open(file_poly, 'w+') as f:\n",
    "    json.dump(data, f, indent=2)"
   ]
  }
 ],
 "metadata": {
  "kernelspec": {
   "display_name": "Python 3",
   "language": "python",
   "name": "python3"
  },
  "language_info": {
   "codemirror_mode": {
    "name": "ipython",
    "version": 3
   },
   "file_extension": ".py",
   "mimetype": "text/x-python",
   "name": "python",
   "nbconvert_exporter": "python",
   "pygments_lexer": "ipython3",
   "version": "3.7.3"
  }
 },
 "nbformat": 4,
 "nbformat_minor": 2
}
